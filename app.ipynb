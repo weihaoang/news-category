{
 "cells": [
  {
   "cell_type": "code",
   "execution_count": null,
   "id": "81ce0c7a",
   "metadata": {},
   "outputs": [
    {
     "name": "stdout",
     "output_type": "stream",
     "text": [
      " * Serving Flask app '__main__'\n",
      " * Debug mode: off\n"
     ]
    },
    {
     "name": "stderr",
     "output_type": "stream",
     "text": [
      "WARNING: This is a development server. Do not use it in a production deployment. Use a production WSGI server instead.\n",
      " * Running on http://127.0.0.1:5000\n",
      "Press CTRL+C to quit\n",
      "127.0.0.1 - - [07/Feb/2024 16:11:32] \"GET / HTTP/1.1\" 200 -\n",
      "127.0.0.1 - - [07/Feb/2024 16:11:32] \"GET /favicon.ico HTTP/1.1\" 404 -\n",
      "127.0.0.1 - - [07/Feb/2024 16:11:46] \"POST /result HTTP/1.1\" 200 -\n",
      "127.0.0.1 - - [07/Feb/2024 16:11:51] \"POST / HTTP/1.1\" 200 -\n",
      "127.0.0.1 - - [07/Feb/2024 16:12:54] \"POST /result HTTP/1.1\" 200 -\n",
      "127.0.0.1 - - [07/Feb/2024 16:12:56] \"POST /end HTTP/1.1\" 200 -\n",
      "127.0.0.1 - - [07/Feb/2024 16:13:05] \"GET / HTTP/1.1\" 200 -\n"
     ]
    }
   ],
   "source": [
    "from flask import Flask, request, render_template\n",
    "from textblob import TextBlob\n",
    "\n",
    "app = Flask(__name__)\n",
    "\n",
    "@app.route(\"/\", methods=[\"GET\", \"POST\"])\n",
    "def index():\n",
    "    return(render_template(\"index.html\"))\n",
    "    \n",
    "@app.route(\"/result\", methods=[\"GET\", \"POST\"])\n",
    "def result():\n",
    "    input = request.form.get(\"input\")\n",
    "    result = TextBlob(input).sentiment\n",
    "    return(render_template(\"result.html\", result=result))\n",
    "\n",
    "@app.route(\"/end\", methods=[\"GET\", \"POST\"])\n",
    "def end():\n",
    "    return(render_template(\"end.html\"))\n",
    "\n",
    "if __name__ == \"__main__\":\n",
    "    app.run()"
   ]
  }
 ],
 "metadata": {
  "kernelspec": {
   "display_name": "Python 3 (ipykernel)",
   "language": "python",
   "name": "python3"
  },
  "language_info": {
   "codemirror_mode": {
    "name": "ipython",
    "version": 3
   },
   "file_extension": ".py",
   "mimetype": "text/x-python",
   "name": "python",
   "nbconvert_exporter": "python",
   "pygments_lexer": "ipython3",
   "version": "3.11.5"
  }
 },
 "nbformat": 4,
 "nbformat_minor": 5
}
